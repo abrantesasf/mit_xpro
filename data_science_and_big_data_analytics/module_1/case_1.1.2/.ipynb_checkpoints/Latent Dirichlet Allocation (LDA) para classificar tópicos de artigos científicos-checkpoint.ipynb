{
 "cells": [
  {
   "cell_type": "markdown",
   "metadata": {},
   "source": [
    "# Latent Dirichlet Allocation (LDA) para a classificação de tópicos em artigos científicos\n",
    "\n",
    "## Introdução\n",
    "\n",
    "Esta é a minha resposta para o segundo estudo de caso do curso *[Data Science and Big Data Analytics: Making Data-Driven Decisions](https://bigdataanalytics.mit.edu/)*, oferecido pelo [MIT xPRO](https://mitxpro.mit.edu).\n",
    "\n",
    "O objetivo deste estudo de caso é aprender a utilizar ferramentas que nos possibilitam ir além da simples clusterização, permitindo alocar um determinado datapoint em mais de um grupo.\n",
    "\n",
    "## Uma das limitações da clusterização com o K-Means\n",
    "\n",
    "Um dos pré-requisitos de algoritmos de clusterização, como o K-Means, é que cada datapoint seja alocado a um, e somente um, único cluster. Mas nem sempre essa será a melhor solução quando lidamos com certos tipos de problemas, por exemplo:\n",
    "\n",
    "- Classificar imagens de animais: poderíamos querer classificar imagens de animais como \"cachorros\", \"gatos\", \"tartarugas\", etc. Mas como classificar uma foto que tem um cachorro e um gato, um ao lado do outro? Certamente essa foto pertenceria a dois grupos ao mesmo tempo.\n",
    "- Classificar assuntos de textos: poderíamos querer classificar todas as reportagens de uma revista de acordo com os assuntos abordados na reportagem, mas obviamente teríamos reportagens que tratariam de diversos assuntos: política, corrupção, economia, ao mesmo tempo.\n",
    "- Classificar nossa ascendência através de estudos de DNA: já está provado que nosso DNA contém marcadores de diferentes grupos ancestrais, e assim não seria possível classificar nossa ascendência em apenas um único grupo ancentral.\n",
    "\n",
    "Para esse tipo de situação, na qual um mesmo datapoint pode pertencer a mais de um grupo ao mesmo tempo, algoritmos de clusterização como o K-Means não são suficientes. Outras ferramentas devem ser utilizadas e uma das mais populares é a **_Latent Dirichlet Allocation (LDA)_**.\n",
    "\n",
    "## Latent Dirichlet Allocation (LDA)\n",
    "\n",
    "Inicialmente proposta para análise de texto."
   ]
  }
 ],
 "metadata": {
  "kernelspec": {
   "display_name": "Python 3",
   "language": "python",
   "name": "python3"
  },
  "language_info": {
   "codemirror_mode": {
    "name": "ipython",
    "version": 3
   },
   "file_extension": ".py",
   "mimetype": "text/x-python",
   "name": "python",
   "nbconvert_exporter": "python",
   "pygments_lexer": "ipython3",
   "version": "3.6.3"
  }
 },
 "nbformat": 4,
 "nbformat_minor": 2
}
